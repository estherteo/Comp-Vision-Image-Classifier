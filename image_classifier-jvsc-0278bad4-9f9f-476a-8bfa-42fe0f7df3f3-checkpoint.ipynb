{
 "cells": [
  {
   "cell_type": "markdown",
   "id": "30996a9c",
   "metadata": {},
   "source": [
    "# Comp Vision Project 2"
   ]
  },
  {
   "cell_type": "markdown",
   "id": "b5fbe3f1",
   "metadata": {},
   "source": [
    "## Implemented the image corruption with Gaussian Noise"
   ]
  },
  {
   "cell_type": "markdown",
   "id": "2cb0d87c",
   "metadata": {},
   "source": [
    "### <font color=pink>Reasons for choosing image corruption by Gaussian Noise:</font>\n",
    "1. Gaussian Noise is completely defined by its mean and standard deviation properties, thus it has well-understood properties and is predictable.\n",
    "\n",
    "2. Real world data has noise similar to Gaussian Noise.\n",
    "\n",
    "3. It is not very complicated to implement."
   ]
  },
  {
   "cell_type": "markdown",
   "id": "0e5d5b9c",
   "metadata": {},
   "source": [
    "### <font color=pink>Method of adding noise and examples of images increasingly corrupted:</font>"
   ]
  },
  {
   "cell_type": "code",
   "execution_count": 1,
   "id": "3bc96518",
   "metadata": {},
   "outputs": [
    {
     "name": "stdout",
     "output_type": "stream",
     "text": [
      "Collecting package metadata (current_repodata.json): done\n",
      "Solving environment: done\n",
      "\n",
      "\n",
      "==> WARNING: A newer version of conda exists. <==\n",
      "  current version: 23.7.4\n",
      "  latest version: 24.1.0\n",
      "\n",
      "Please update conda by running\n",
      "\n",
      "    $ conda update -n base -c defaults conda\n",
      "\n",
      "Or to minimize the number of packages updated during conda update use\n",
      "\n",
      "     conda install conda=24.1.0\n",
      "\n",
      "\n",
      "\n",
      "# All requested packages already installed.\n",
      "\n",
      "\n",
      "Note: you may need to restart the kernel to use updated packages.\n"
     ]
    }
   ],
   "source": [
    "conda install opencv"
   ]
  },
  {
   "cell_type": "code",
   "execution_count": 22,
   "id": "26f77716",
   "metadata": {},
   "outputs": [
    {
     "name": "stdout",
     "output_type": "stream",
     "text": [
      "Collecting package metadata (current_repodata.json): done\n",
      "Solving environment: done\n",
      "\n",
      "\n",
      "==> WARNING: A newer version of conda exists. <==\n",
      "  current version: 23.7.4\n",
      "  latest version: 24.1.0\n",
      "\n",
      "Please update conda by running\n",
      "\n",
      "    $ conda update -n base -c defaults conda\n",
      "\n",
      "Or to minimize the number of packages updated during conda update use\n",
      "\n",
      "     conda install conda=24.1.0\n",
      "\n",
      "\n",
      "\n",
      "## Package Plan ##\n",
      "\n",
      "  environment location: /opt/homebrew/anaconda3\n",
      "\n",
      "  added / updated specs:\n",
      "    - pytorch\n",
      "    - torchvision\n",
      "\n",
      "\n",
      "The following packages will be downloaded:\n",
      "\n",
      "    package                    |            build\n",
      "    ---------------------------|-----------------\n",
      "    libjpeg-turbo-2.0.0        |       h1a28f6b_0         386 KB\n",
      "    pytorch-2.2.0              |         py3.11_0        55.5 MB  pytorch\n",
      "    torchvision-0.17.0         |        py311_cpu         6.8 MB  pytorch\n",
      "    ------------------------------------------------------------\n",
      "                                           Total:        62.7 MB\n",
      "\n",
      "The following NEW packages will be INSTALLED:\n",
      "\n",
      "  libjpeg-turbo      pkgs/main/osx-arm64::libjpeg-turbo-2.0.0-h1a28f6b_0 \n",
      "  pytorch            pytorch/osx-arm64::pytorch-2.2.0-py3.11_0 \n",
      "  torchvision        pytorch/osx-arm64::torchvision-0.17.0-py311_cpu \n",
      "\n",
      "\n",
      "\n",
      "Downloading and Extracting Packages\n",
      "torchvision-0.17.0   | 6.8 MB    |                                       |   0% \n",
      "pytorch-2.2.0        | 55.5 MB   |                                       |   0% \u001b[A\n",
      "\n",
      "libjpeg-turbo-2.0.0  | 386 KB    |                                       |   0% \u001b[A\u001b[A\n",
      "\n",
      "libjpeg-turbo-2.0.0  | 386 KB    | #5                                    |   4% \u001b[A\u001b[A\n",
      "pytorch-2.2.0        | 55.5 MB   |                                       |   0% \u001b[A\n",
      "\n",
      "torchvision-0.17.0   | 6.8 MB    |                                       |   0% \u001b[A\u001b[A\n",
      "torchvision-0.17.0   | 6.8 MB    | ##2                                   |   6% \u001b[A\n",
      "torchvision-0.17.0   | 6.8 MB    | ########2                             |  22% \u001b[A\n",
      "torchvision-0.17.0   | 6.8 MB    | ###########2                          |  30% \u001b[A\n",
      "torchvision-0.17.0   | 6.8 MB    | #################2                    |  47% \u001b[A\n",
      "torchvision-0.17.0   | 6.8 MB    | ######################4               |  61% \u001b[A\n",
      "torchvision-0.17.0   | 6.8 MB    | ###########################7          |  75% \u001b[A\n",
      "torchvision-0.17.0   | 6.8 MB    | ###############################9      |  86% \u001b[A\n",
      "pytorch-2.2.0        | 55.5 MB   | #####1                                |  14% \u001b[A\n",
      "pytorch-2.2.0        | 55.5 MB   | ######1                               |  17% \u001b[A\n",
      "pytorch-2.2.0        | 55.5 MB   | #######2                              |  20% \u001b[A\n",
      "pytorch-2.2.0        | 55.5 MB   | ########                              |  22% \u001b[A\n",
      "pytorch-2.2.0        | 55.5 MB   | #########1                            |  25% \u001b[A\n",
      "torchvision-0.17.0   | 6.8 MB    | ##################################### | 100% \u001b[A\n",
      "pytorch-2.2.0        | 55.5 MB   | ###########5                          |  31% \u001b[A\n",
      "pytorch-2.2.0        | 55.5 MB   | ############5                         |  34% \u001b[A\n",
      "pytorch-2.2.0        | 55.5 MB   | #############6                        |  37% \u001b[A\n",
      "pytorch-2.2.0        | 55.5 MB   | ###############                       |  41% \u001b[A\n",
      "pytorch-2.2.0        | 55.5 MB   | ################3                     |  44% \u001b[A\n",
      "pytorch-2.2.0        | 55.5 MB   | #################3                    |  47% \u001b[A\n",
      "pytorch-2.2.0        | 55.5 MB   | ##################3                   |  49% \u001b[A\n",
      "pytorch-2.2.0        | 55.5 MB   | ###################5                  |  53% \u001b[A\n",
      "pytorch-2.2.0        | 55.5 MB   | ####################8                 |  56% \u001b[A\n",
      "pytorch-2.2.0        | 55.5 MB   | #####################8                |  59% \u001b[A\n",
      "pytorch-2.2.0        | 55.5 MB   | #######################1              |  63% \u001b[A\n",
      "pytorch-2.2.0        | 55.5 MB   | ########################4             |  66% \u001b[A\n",
      "pytorch-2.2.0        | 55.5 MB   | #########################6            |  69% \u001b[A\n",
      "pytorch-2.2.0        | 55.5 MB   | ##########################6           |  72% \u001b[A\n",
      "pytorch-2.2.0        | 55.5 MB   | ###########################4          |  74% \u001b[A\n",
      "pytorch-2.2.0        | 55.5 MB   | ############################1         |  76% \u001b[A\n",
      "pytorch-2.2.0        | 55.5 MB   | ############################6         |  77% \u001b[A\n",
      "pytorch-2.2.0        | 55.5 MB   | #############################         |  79% \u001b[A\n",
      "pytorch-2.2.0        | 55.5 MB   | #############################6        |  80% \u001b[A\n",
      "pytorch-2.2.0        | 55.5 MB   | #############################9        |  81% \u001b[A\n",
      "pytorch-2.2.0        | 55.5 MB   | ##############################6       |  83% \u001b[A\n",
      "pytorch-2.2.0        | 55.5 MB   | ###############################       |  84% \u001b[A\n",
      "pytorch-2.2.0        | 55.5 MB   | ###############################2      |  85% \u001b[A\n",
      "pytorch-2.2.0        | 55.5 MB   | ###############################5      |  85% \u001b[A\n",
      "pytorch-2.2.0        | 55.5 MB   | ###############################7      |  86% \u001b[A\n",
      "pytorch-2.2.0        | 55.5 MB   | ###############################9      |  86% \u001b[A\n",
      "pytorch-2.2.0        | 55.5 MB   | ################################1     |  87% \u001b[A\n",
      "pytorch-2.2.0        | 55.5 MB   | ################################5     |  88% \u001b[A\n",
      "pytorch-2.2.0        | 55.5 MB   | #################################     |  89% \u001b[A\n",
      "pytorch-2.2.0        | 55.5 MB   | #################################3    |  90% \u001b[A\n",
      "pytorch-2.2.0        | 55.5 MB   | ##################################    |  92% \u001b[A\n",
      "pytorch-2.2.0        | 55.5 MB   | ###################################1  |  95% \u001b[A\n",
      "pytorch-2.2.0        | 55.5 MB   | ####################################1 |  98% \u001b[A\n",
      "pytorch-2.2.0        | 55.5 MB   | ####################################8 | 100% \u001b[A\n",
      "                                                                                \u001b[A\n",
      "                                                                                \u001b[A\n",
      "\n",
      "                                                                                \u001b[A\u001b[A\n",
      "Preparing transaction: done\n",
      "Verifying transaction: done\n",
      "Executing transaction: done\n",
      "\n",
      "Note: you may need to restart the kernel to use updated packages.\n"
     ]
    }
   ],
   "source": [
    "conda install pytorch torchvision -c pytorch"
   ]
  },
  {
   "cell_type": "code",
   "execution_count": 41,
   "id": "3de8afc7",
   "metadata": {},
   "outputs": [
    {
     "name": "stdout",
     "output_type": "stream",
     "text": [
      "Collecting evaluate\n",
      "  Obtaining dependency information for evaluate from https://files.pythonhosted.org/packages/70/63/7644a1eb7b0297e585a6adec98ed9e575309bb973c33b394dae66bc35c69/evaluate-0.4.1-py3-none-any.whl.metadata\n",
      "  Downloading evaluate-0.4.1-py3-none-any.whl.metadata (9.4 kB)\n",
      "Requirement already satisfied: datasets>=2.0.0 in /opt/homebrew/anaconda3/lib/python3.11/site-packages (from evaluate) (2.12.0)\n",
      "Requirement already satisfied: numpy>=1.17 in /opt/homebrew/anaconda3/lib/python3.11/site-packages (from evaluate) (1.24.3)\n",
      "Requirement already satisfied: dill in /opt/homebrew/anaconda3/lib/python3.11/site-packages (from evaluate) (0.3.6)\n",
      "Requirement already satisfied: pandas in /opt/homebrew/anaconda3/lib/python3.11/site-packages (from evaluate) (2.0.3)\n",
      "Requirement already satisfied: requests>=2.19.0 in /opt/homebrew/anaconda3/lib/python3.11/site-packages (from evaluate) (2.31.0)\n",
      "Requirement already satisfied: tqdm>=4.62.1 in /opt/homebrew/anaconda3/lib/python3.11/site-packages (from evaluate) (4.65.0)\n",
      "Requirement already satisfied: xxhash in /opt/homebrew/anaconda3/lib/python3.11/site-packages (from evaluate) (2.0.2)\n",
      "Requirement already satisfied: multiprocess in /opt/homebrew/anaconda3/lib/python3.11/site-packages (from evaluate) (0.70.14)\n",
      "Requirement already satisfied: fsspec[http]>=2021.05.0 in /opt/homebrew/anaconda3/lib/python3.11/site-packages (from evaluate) (2023.4.0)\n",
      "Requirement already satisfied: huggingface-hub>=0.7.0 in /opt/homebrew/anaconda3/lib/python3.11/site-packages (from evaluate) (0.15.1)\n",
      "Requirement already satisfied: packaging in /opt/homebrew/anaconda3/lib/python3.11/site-packages (from evaluate) (23.1)\n",
      "Requirement already satisfied: responses<0.19 in /opt/homebrew/anaconda3/lib/python3.11/site-packages (from evaluate) (0.13.3)\n",
      "Requirement already satisfied: pyarrow>=8.0.0 in /opt/homebrew/anaconda3/lib/python3.11/site-packages (from datasets>=2.0.0->evaluate) (11.0.0)\n",
      "Requirement already satisfied: aiohttp in /opt/homebrew/anaconda3/lib/python3.11/site-packages (from datasets>=2.0.0->evaluate) (3.8.5)\n",
      "Requirement already satisfied: pyyaml>=5.1 in /opt/homebrew/anaconda3/lib/python3.11/site-packages (from datasets>=2.0.0->evaluate) (6.0)\n",
      "Requirement already satisfied: filelock in /opt/homebrew/anaconda3/lib/python3.11/site-packages (from huggingface-hub>=0.7.0->evaluate) (3.9.0)\n",
      "Requirement already satisfied: typing-extensions>=3.7.4.3 in /opt/homebrew/anaconda3/lib/python3.11/site-packages (from huggingface-hub>=0.7.0->evaluate) (4.9.0)\n",
      "Requirement already satisfied: charset-normalizer<4,>=2 in /opt/homebrew/anaconda3/lib/python3.11/site-packages (from requests>=2.19.0->evaluate) (2.0.4)\n",
      "Requirement already satisfied: idna<4,>=2.5 in /opt/homebrew/anaconda3/lib/python3.11/site-packages (from requests>=2.19.0->evaluate) (3.4)\n",
      "Requirement already satisfied: urllib3<3,>=1.21.1 in /opt/homebrew/anaconda3/lib/python3.11/site-packages (from requests>=2.19.0->evaluate) (1.26.16)\n",
      "Requirement already satisfied: certifi>=2017.4.17 in /opt/homebrew/anaconda3/lib/python3.11/site-packages (from requests>=2.19.0->evaluate) (2024.2.2)\n",
      "Requirement already satisfied: six in /opt/homebrew/anaconda3/lib/python3.11/site-packages (from responses<0.19->evaluate) (1.16.0)\n",
      "Requirement already satisfied: python-dateutil>=2.8.2 in /opt/homebrew/anaconda3/lib/python3.11/site-packages (from pandas->evaluate) (2.8.2)\n",
      "Requirement already satisfied: pytz>=2020.1 in /opt/homebrew/anaconda3/lib/python3.11/site-packages (from pandas->evaluate) (2023.3.post1)\n",
      "Requirement already satisfied: tzdata>=2022.1 in /opt/homebrew/anaconda3/lib/python3.11/site-packages (from pandas->evaluate) (2023.3)\n",
      "Requirement already satisfied: attrs>=17.3.0 in /opt/homebrew/anaconda3/lib/python3.11/site-packages (from aiohttp->datasets>=2.0.0->evaluate) (22.1.0)\n",
      "Requirement already satisfied: multidict<7.0,>=4.5 in /opt/homebrew/anaconda3/lib/python3.11/site-packages (from aiohttp->datasets>=2.0.0->evaluate) (6.0.2)\n",
      "Requirement already satisfied: async-timeout<5.0,>=4.0.0a3 in /opt/homebrew/anaconda3/lib/python3.11/site-packages (from aiohttp->datasets>=2.0.0->evaluate) (4.0.2)\n",
      "Requirement already satisfied: yarl<2.0,>=1.0 in /opt/homebrew/anaconda3/lib/python3.11/site-packages (from aiohttp->datasets>=2.0.0->evaluate) (1.8.1)\n",
      "Requirement already satisfied: frozenlist>=1.1.1 in /opt/homebrew/anaconda3/lib/python3.11/site-packages (from aiohttp->datasets>=2.0.0->evaluate) (1.3.3)\n",
      "Requirement already satisfied: aiosignal>=1.1.2 in /opt/homebrew/anaconda3/lib/python3.11/site-packages (from aiohttp->datasets>=2.0.0->evaluate) (1.2.0)\n",
      "Downloading evaluate-0.4.1-py3-none-any.whl (84 kB)\n",
      "\u001b[2K   \u001b[90m━━━━━━━━━━━━━━━━━━━━━━━━━━━━━━━━━━━━━━━━\u001b[0m \u001b[32m84.1/84.1 kB\u001b[0m \u001b[31m2.3 MB/s\u001b[0m eta \u001b[36m0:00:00\u001b[0ma \u001b[36m0:00:01\u001b[0m\n",
      "\u001b[?25hInstalling collected packages: evaluate\n",
      "Successfully installed evaluate-0.4.1\n",
      "Note: you may need to restart the kernel to use updated packages.\n"
     ]
    }
   ],
   "source": [
    "pip install evaluate"
   ]
  },
  {
   "cell_type": "code",
   "execution_count": 42,
   "id": "5a0f3d35",
   "metadata": {},
   "outputs": [
    {
     "name": "stderr",
     "output_type": "stream",
     "text": [
      "/var/folders/1h/m1zgs69s0fsfb37w7pyz5gkc0000gn/T/ipykernel_41228/3334724902.py:3: DeprecationWarning: Please use `gaussian_kde` from the `scipy.stats` namespace, the `scipy.stats.kde` namespace is deprecated.\n",
      "  from scipy.stats.kde import gaussian_kde\n"
     ]
    }
   ],
   "source": [
    "import cv2\n",
    "import numpy as np\n",
    "from scipy.stats.kde import gaussian_kde\n",
    "import matplotlib.pyplot as plt\n",
    "from transformers import AutoImageProcessor, ResNetForImageClassification\n",
    "import torch\n",
    "import evaluate\n",
    "from torchvision import transforms\n",
    "from PIL import Image"
   ]
  },
  {
   "cell_type": "code",
   "execution_count": 66,
   "id": "9070592e",
   "metadata": {},
   "outputs": [
    {
     "name": "stderr",
     "output_type": "stream",
     "text": [
      "Could not find image processor class in the image processor config or the model config. Loading based on pattern matching with the model's feature extractor configuration.\n"
     ]
    }
   ],
   "source": [
    "processor = AutoImageProcessor.from_pretrained(\"microsoft/resnet-50\")\n",
    "model = ResNetForImageClassification.from_pretrained(\"microsoft/resnet-50\")"
   ]
  },
  {
   "cell_type": "code",
   "execution_count": 67,
   "id": "c0d89ce2",
   "metadata": {},
   "outputs": [],
   "source": [
    "# original image\n",
    "f = cv2.imread('bear.png')\n",
    "f = f/255 \n",
    "cv2.imshow('original image', f)\n",
    "cv2.waitKey(0)\n",
    "cv2.destroyAllWindows()\n",
    "\n",
    "f_img = Image.fromarray((f * 255).astype(np.uint8))\n"
   ]
  },
  {
   "cell_type": "code",
   "execution_count": 68,
   "id": "e1459d7c",
   "metadata": {},
   "outputs": [
    {
     "name": "stdout",
     "output_type": "stream",
     "text": [
      "Predicted label for original image (without corruption):\n",
      " brown bear, bruin, Ursus arctos\n"
     ]
    }
   ],
   "source": [
    "inputs = processor(f_img, return_tensors=\"pt\")\n",
    "\n",
    "with torch.no_grad():\n",
    "    logits = model(**inputs).logits\n",
    "\n",
    "# model predicts one of the 1000 ImageNet classes\n",
    "predicted_label = logits.argmax(-1).item()\n",
    "print('Predicted label for original image (without corruption):\\n', model.config.id2label[predicted_label])"
   ]
  },
  {
   "cell_type": "code",
   "execution_count": 69,
   "id": "fa3c1d2d",
   "metadata": {},
   "outputs": [
    {
     "name": "stdout",
     "output_type": "stream",
     "text": [
      "Predicted label for corrupted image 1: brown bear, bruin, Ursus arctos\n",
      "Predicted label for corrupted image 2: American black bear, black bear, Ursus americanus, Euarctos americanus\n",
      "Predicted label for corrupted image 3: American black bear, black bear, Ursus americanus, Euarctos americanus\n",
      "Predicted label for corrupted image 4: American black bear, black bear, Ursus americanus, Euarctos americanus\n",
      "Predicted label for corrupted image 5: brown bear, bruin, Ursus arctos\n",
      "Predicted label for corrupted image 6: American black bear, black bear, Ursus americanus, Euarctos americanus\n",
      "Predicted label for corrupted image 7: brown bear, bruin, Ursus arctos\n",
      "Predicted label for corrupted image 8: Staffordshire bullterrier, Staffordshire bull terrier\n",
      "Predicted label for corrupted image 9: jellyfish\n",
      "Predicted label for corrupted image 10: jellyfish\n"
     ]
    }
   ],
   "source": [
    "# create gaussian noise - n\n",
    "mean = 0\n",
    "num_variations = 10\n",
    "\n",
    "references = []\n",
    "predictions = []\n",
    "amt_of_corruption = []\n",
    "accuracies = []\n",
    "\n",
    "# Get 10 different variances\n",
    "for i in range(num_variations):\n",
    "    var = 0.01 + i*0.10\n",
    "    sigma = np.sqrt(var)\n",
    "    n = np.random.normal(loc=mean, \n",
    "                        scale=sigma, \n",
    "                        size=f.shape)\n",
    "\n",
    "    amt_of_corruption.append(var)\n",
    "\n",
    "    # add a gaussian noise\n",
    "    g = f + n\n",
    "\n",
    "    # Clip values to range [0, 1]\n",
    "    g = np.clip(g, 0, 1)\n",
    "\n",
    "    # Display corrupted image\n",
    "    cv2.imshow(f'Corrupted Image {i+1}', g)\n",
    "\n",
    "    # Convert to PIL image format used for huggingface \n",
    "    g = Image.fromarray((g * 255).astype(np.uint8))\n",
    "\n",
    "    inputs = processor(g, return_tensors=\"pt\")\n",
    "\n",
    "    with torch.no_grad():\n",
    "        logits = model(**inputs).logits\n",
    "\n",
    "    # model predicts one of the 1000 ImageNet classes\n",
    "    predicted_label = logits.argmax(-1).item()\n",
    "    print(f'Predicted label for corrupted image {i+1}:', model.config.id2label[predicted_label])\n",
    "\n",
    "    # store references and predictions\n",
    "    references.append(\"brown bear, bruin, Ursus arctos\")\n",
    "    predictions.append(model.config.id2label[predicted_label])\n",
    "\n",
    "cv2.waitKey(0)\n",
    "cv2.destroyAllWindows()\n"
   ]
  },
  {
   "cell_type": "markdown",
   "id": "e597e98f",
   "metadata": {},
   "source": [
    "### <font color=pink> Evaluating the classification accuracy as images are more corrupted </font>"
   ]
  },
  {
   "cell_type": "code",
   "execution_count": 70,
   "id": "68300f6d",
   "metadata": {},
   "outputs": [
    {
     "name": "stdout",
     "output_type": "stream",
     "text": [
      "j:  brown bear, bruin, Ursus arctos\n",
      "j:  American black bear, black bear, Ursus americanus, Euarctos americanus\n",
      "j:  American black bear, black bear, Ursus americanus, Euarctos americanus\n",
      "j:  American black bear, black bear, Ursus americanus, Euarctos americanus\n",
      "j:  brown bear, bruin, Ursus arctos\n",
      "j:  American black bear, black bear, Ursus americanus, Euarctos americanus\n",
      "j:  brown bear, bruin, Ursus arctos\n",
      "j:  Staffordshire bullterrier, Staffordshire bull terrier\n",
      "j:  jellyfish\n",
      "j:  jellyfish\n",
      "Acc counts:  3\n",
      "Classification Accuracy out of the 10 corrupted images: 30.00%\n"
     ]
    }
   ],
   "source": [
    "acc_count = 0\n",
    "\n",
    "for j, pred in enumerate(predictions):\n",
    "  print(\"j: \", pred)\n",
    "  if (pred == \"brown bear, bruin, Ursus arctos\"):\n",
    "    acc_count += 1\n",
    "    accuracy = 1\n",
    "    accuracies.append(accuracy)\n",
    "  else:\n",
    "    accuracy = 0\n",
    "    accuracies.append(accuracy)\n",
    "\n",
    "print(\"Acc counts: \", acc_count)\n",
    "accuracy = acc_count/10 * 100 \n",
    "print(\"Classification Accuracy out of the 10 corrupted images: {:.2f}%\".format(accuracy))"
   ]
  },
  {
   "cell_type": "markdown",
   "id": "779a46f7",
   "metadata": {},
   "source": [
    "###  <font color=pink> Visualising the classification result against the amount of corruption </font>"
   ]
  },
  {
   "cell_type": "code",
   "execution_count": 71,
   "id": "0e8eca75",
   "metadata": {},
   "outputs": [
    {
     "name": "stdout",
     "output_type": "stream",
     "text": [
      "Accuracy list:  [1, 0, 0, 0, 1, 0, 1, 0, 0, 0]\n",
      "Amount of corruption:  [0.01, 0.11, 0.21000000000000002, 0.31000000000000005, 0.41000000000000003, 0.51, 0.6100000000000001, 0.7100000000000001, 0.81, 0.91]\n"
     ]
    },
    {
     "data": {
      "image/png": "[encoded data removed]",
      "text/plain": [
       "<Figure size 640x480 with 1 Axes>"
      ]
     },
     "metadata": {},
     "output_type": "display_data"
    }
   ],
   "source": [
    "print(\"Accuracy list: \", accuracies)\n",
    "print(\"Amount of corruption: \", amt_of_corruption)\n",
    "\n",
    "plt.plot(amt_of_corruption, accuracies)\n",
    "plt.xlabel(\"Amount of corruption (variance in Gaussian Noise)\")\n",
    "plt.ylabel(\"Image Classifier Accuracy\")\n",
    "plt.show()"
   ]
  }
 ],
 "metadata": {
  "interpreter": {
   "hash": "38cca0c38332a56087b24af0bc80247f4fced29cb4f7f437d91dc159adec9c4e"
  },
  "kernelspec": {
   "display_name": "Python 3.11.5 ('base')",
   "language": "python",
   "name": "python3"
  },
  "language_info": {
   "codemirror_mode": {
    "name": "ipython",
    "version": 3
   },
   "file_extension": ".py",
   "mimetype": "text/x-python",
   "name": "python",
   "nbconvert_exporter": "python",
   "pygments_lexer": "ipython3",
   "version": "3.11.5"
  }
 },
 "nbformat": 4,
 "nbformat_minor": 5
}
